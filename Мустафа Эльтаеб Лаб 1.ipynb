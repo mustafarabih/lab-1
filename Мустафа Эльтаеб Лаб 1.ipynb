{
 "cells": [
  {
   "cell_type": "markdown",
   "id": "d6a00b85-bdac-42fe-958b-14f19a062d79",
   "metadata": {},
   "source": [
    "# Лабораторная работа №1\n",
    "## по дисциплине *Моделирование инженерных задач*\n",
    "#Работу выполнил: студент гр. **М1О-418Бки-19** *Мустафа Эльтаеб*"
   ]
  },
  {
   "cell_type": "code",
   "execution_count": 50,
   "id": "f1e9e371-797b-4290-88ab-afc10a055750",
   "metadata": {},
   "outputs": [],
   "source": [
    "import pandas as pd\n",
    "import numpy as np\n",
    "from matplotlib import pyplot as plt\n",
    "import seaborn as sns\n",
    "%matplotlib inline\n",
    "from sklearn.preprocessing import StandardScaler\n",
    "from sklearn.model_selection import train_test_split\n",
    "from sklearn.model_selection import GridSearchCV\n",
    "from sklearn.tree import DecisionTreeClassifier\n",
    "from sklearn.ensemble import RandomForestClassifier\n",
    "from sklearn.metrics import accuracy_score\n",
    "DATA_URL=\"datasets/\""
   ]
  },
  {
   "cell_type": "code",
   "execution_count": 51,
   "id": "e1875fe0-8bec-4435-9916-b606cc81e04c",
   "metadata": {},
   "outputs": [],
   "source": [
    "# winequality-white.csv is a ';' separated csv file.\n",
    "white_wine=pd.read_csv(DATA_URL + \"winequality-white.csv\",sep=',')\n",
    "df_white = white_wine\n",
    "df_white['type']='white'\n",
    "red_wine = pd.read_csv(DATA_URL + \"winequality-red.csv\",sep=',')\n",
    "df_red = red_wine\n",
    "df_red['type']='Red'"
   ]
  },
  {
   "cell_type": "code",
   "execution_count": 52,
   "id": "a96f51d7-e9c5-4569-b501-a328576f1e87",
   "metadata": {},
   "outputs": [
    {
     "data": {
      "text/html": [
       "<div>\n",
       "<style scoped>\n",
       "    .dataframe tbody tr th:only-of-type {\n",
       "        vertical-align: middle;\n",
       "    }\n",
       "\n",
       "    .dataframe tbody tr th {\n",
       "        vertical-align: top;\n",
       "    }\n",
       "\n",
       "    .dataframe thead th {\n",
       "        text-align: right;\n",
       "    }\n",
       "</style>\n",
       "<table border=\"1\" class=\"dataframe\">\n",
       "  <thead>\n",
       "    <tr style=\"text-align: right;\">\n",
       "      <th></th>\n",
       "      <th>fixed acidity</th>\n",
       "      <th>volatile acidity</th>\n",
       "      <th>citric acid</th>\n",
       "      <th>residual sugar</th>\n",
       "      <th>chlorides</th>\n",
       "      <th>free sulfur dioxide</th>\n",
       "      <th>total sulfur dioxide</th>\n",
       "      <th>density</th>\n",
       "      <th>pH</th>\n",
       "      <th>sulphates</th>\n",
       "      <th>alcohol</th>\n",
       "      <th>quality</th>\n",
       "      <th>type</th>\n",
       "    </tr>\n",
       "  </thead>\n",
       "  <tbody>\n",
       "    <tr>\n",
       "      <th>0</th>\n",
       "      <td>7.4</td>\n",
       "      <td>0.70</td>\n",
       "      <td>0.00</td>\n",
       "      <td>1.9</td>\n",
       "      <td>0.076</td>\n",
       "      <td>11</td>\n",
       "      <td>34</td>\n",
       "      <td>0.9978</td>\n",
       "      <td>3.51</td>\n",
       "      <td>0.56</td>\n",
       "      <td>9.4</td>\n",
       "      <td>5</td>\n",
       "      <td>Red</td>\n",
       "    </tr>\n",
       "    <tr>\n",
       "      <th>1</th>\n",
       "      <td>7.8</td>\n",
       "      <td>0.88</td>\n",
       "      <td>0.00</td>\n",
       "      <td>2.6</td>\n",
       "      <td>0.098</td>\n",
       "      <td>25</td>\n",
       "      <td>67</td>\n",
       "      <td>0.9968</td>\n",
       "      <td>3.20</td>\n",
       "      <td>0.68</td>\n",
       "      <td>9.8</td>\n",
       "      <td>5</td>\n",
       "      <td>Red</td>\n",
       "    </tr>\n",
       "    <tr>\n",
       "      <th>2</th>\n",
       "      <td>7.8</td>\n",
       "      <td>0.76</td>\n",
       "      <td>0.04</td>\n",
       "      <td>2.3</td>\n",
       "      <td>0.092</td>\n",
       "      <td>15</td>\n",
       "      <td>54</td>\n",
       "      <td>0.9970</td>\n",
       "      <td>3.26</td>\n",
       "      <td>0.65</td>\n",
       "      <td>9.8</td>\n",
       "      <td>5</td>\n",
       "      <td>Red</td>\n",
       "    </tr>\n",
       "    <tr>\n",
       "      <th>3</th>\n",
       "      <td>11.2</td>\n",
       "      <td>0.28</td>\n",
       "      <td>0.56</td>\n",
       "      <td>1.9</td>\n",
       "      <td>0.075</td>\n",
       "      <td>17</td>\n",
       "      <td>60</td>\n",
       "      <td>0.9980</td>\n",
       "      <td>3.16</td>\n",
       "      <td>0.58</td>\n",
       "      <td>9.8</td>\n",
       "      <td>6</td>\n",
       "      <td>Red</td>\n",
       "    </tr>\n",
       "    <tr>\n",
       "      <th>4</th>\n",
       "      <td>7.4</td>\n",
       "      <td>0.70</td>\n",
       "      <td>0.00</td>\n",
       "      <td>1.9</td>\n",
       "      <td>0.076</td>\n",
       "      <td>11</td>\n",
       "      <td>34</td>\n",
       "      <td>0.9978</td>\n",
       "      <td>3.51</td>\n",
       "      <td>0.56</td>\n",
       "      <td>9.4</td>\n",
       "      <td>5</td>\n",
       "      <td>Red</td>\n",
       "    </tr>\n",
       "  </tbody>\n",
       "</table>\n",
       "</div>"
      ],
      "text/plain": [
       "   fixed acidity  volatile acidity  citric acid  residual sugar  chlorides  \\\n",
       "0            7.4              0.70         0.00             1.9      0.076   \n",
       "1            7.8              0.88         0.00             2.6      0.098   \n",
       "2            7.8              0.76         0.04             2.3      0.092   \n",
       "3           11.2              0.28         0.56             1.9      0.075   \n",
       "4            7.4              0.70         0.00             1.9      0.076   \n",
       "\n",
       "   free sulfur dioxide  total sulfur dioxide  density    pH  sulphates  \\\n",
       "0                   11                    34   0.9978  3.51       0.56   \n",
       "1                   25                    67   0.9968  3.20       0.68   \n",
       "2                   15                    54   0.9970  3.26       0.65   \n",
       "3                   17                    60   0.9980  3.16       0.58   \n",
       "4                   11                    34   0.9978  3.51       0.56   \n",
       "\n",
       "   alcohol  quality type  \n",
       "0      9.4        5  Red  \n",
       "1      9.8        5  Red  \n",
       "2      9.8        5  Red  \n",
       "3      9.8        6  Red  \n",
       "4      9.4        5  Red  "
      ]
     },
     "execution_count": 52,
     "metadata": {},
     "output_type": "execute_result"
    }
   ],
   "source": [
    "# Review Datasets\n",
    "red_wine.head()"
   ]
  },
  {
   "cell_type": "code",
   "execution_count": 53,
   "id": "bf3e362a-d359-49b3-a6de-b841131e4cb4",
   "metadata": {},
   "outputs": [
    {
     "data": {
      "text/html": [
       "<div>\n",
       "<style scoped>\n",
       "    .dataframe tbody tr th:only-of-type {\n",
       "        vertical-align: middle;\n",
       "    }\n",
       "\n",
       "    .dataframe tbody tr th {\n",
       "        vertical-align: top;\n",
       "    }\n",
       "\n",
       "    .dataframe thead th {\n",
       "        text-align: right;\n",
       "    }\n",
       "</style>\n",
       "<table border=\"1\" class=\"dataframe\">\n",
       "  <thead>\n",
       "    <tr style=\"text-align: right;\">\n",
       "      <th></th>\n",
       "      <th>fixed acidity</th>\n",
       "      <th>volatile acidity</th>\n",
       "      <th>citric acid</th>\n",
       "      <th>residual sugar</th>\n",
       "      <th>chlorides</th>\n",
       "      <th>free sulfur dioxide</th>\n",
       "      <th>total sulfur dioxide</th>\n",
       "      <th>density</th>\n",
       "      <th>pH</th>\n",
       "      <th>sulphates</th>\n",
       "      <th>alcohol</th>\n",
       "      <th>quality</th>\n",
       "      <th>type</th>\n",
       "    </tr>\n",
       "  </thead>\n",
       "  <tbody>\n",
       "    <tr>\n",
       "      <th>0</th>\n",
       "      <td>7.0</td>\n",
       "      <td>0.27</td>\n",
       "      <td>0.36</td>\n",
       "      <td>20.7</td>\n",
       "      <td>0.045</td>\n",
       "      <td>45.0</td>\n",
       "      <td>170.0</td>\n",
       "      <td>1.0010</td>\n",
       "      <td>3.00</td>\n",
       "      <td>0.45</td>\n",
       "      <td>8.8</td>\n",
       "      <td>6</td>\n",
       "      <td>white</td>\n",
       "    </tr>\n",
       "    <tr>\n",
       "      <th>1</th>\n",
       "      <td>6.3</td>\n",
       "      <td>0.30</td>\n",
       "      <td>0.34</td>\n",
       "      <td>1.6</td>\n",
       "      <td>0.049</td>\n",
       "      <td>14.0</td>\n",
       "      <td>132.0</td>\n",
       "      <td>0.9940</td>\n",
       "      <td>3.30</td>\n",
       "      <td>0.49</td>\n",
       "      <td>9.5</td>\n",
       "      <td>6</td>\n",
       "      <td>white</td>\n",
       "    </tr>\n",
       "    <tr>\n",
       "      <th>2</th>\n",
       "      <td>8.1</td>\n",
       "      <td>0.28</td>\n",
       "      <td>0.40</td>\n",
       "      <td>6.9</td>\n",
       "      <td>0.050</td>\n",
       "      <td>30.0</td>\n",
       "      <td>97.0</td>\n",
       "      <td>0.9951</td>\n",
       "      <td>3.26</td>\n",
       "      <td>0.44</td>\n",
       "      <td>10.1</td>\n",
       "      <td>6</td>\n",
       "      <td>white</td>\n",
       "    </tr>\n",
       "    <tr>\n",
       "      <th>3</th>\n",
       "      <td>7.2</td>\n",
       "      <td>0.23</td>\n",
       "      <td>0.32</td>\n",
       "      <td>8.5</td>\n",
       "      <td>0.058</td>\n",
       "      <td>47.0</td>\n",
       "      <td>186.0</td>\n",
       "      <td>0.9956</td>\n",
       "      <td>3.19</td>\n",
       "      <td>0.40</td>\n",
       "      <td>9.9</td>\n",
       "      <td>6</td>\n",
       "      <td>white</td>\n",
       "    </tr>\n",
       "    <tr>\n",
       "      <th>4</th>\n",
       "      <td>7.2</td>\n",
       "      <td>0.23</td>\n",
       "      <td>0.32</td>\n",
       "      <td>8.5</td>\n",
       "      <td>0.058</td>\n",
       "      <td>47.0</td>\n",
       "      <td>186.0</td>\n",
       "      <td>0.9956</td>\n",
       "      <td>3.19</td>\n",
       "      <td>0.40</td>\n",
       "      <td>9.9</td>\n",
       "      <td>6</td>\n",
       "      <td>white</td>\n",
       "    </tr>\n",
       "  </tbody>\n",
       "</table>\n",
       "</div>"
      ],
      "text/plain": [
       "   fixed acidity  volatile acidity  citric acid  residual sugar  chlorides  \\\n",
       "0            7.0              0.27         0.36            20.7      0.045   \n",
       "1            6.3              0.30         0.34             1.6      0.049   \n",
       "2            8.1              0.28         0.40             6.9      0.050   \n",
       "3            7.2              0.23         0.32             8.5      0.058   \n",
       "4            7.2              0.23         0.32             8.5      0.058   \n",
       "\n",
       "   free sulfur dioxide  total sulfur dioxide  density    pH  sulphates  \\\n",
       "0                 45.0                 170.0   1.0010  3.00       0.45   \n",
       "1                 14.0                 132.0   0.9940  3.30       0.49   \n",
       "2                 30.0                  97.0   0.9951  3.26       0.44   \n",
       "3                 47.0                 186.0   0.9956  3.19       0.40   \n",
       "4                 47.0                 186.0   0.9956  3.19       0.40   \n",
       "\n",
       "   alcohol  quality   type  \n",
       "0      8.8        6  white  \n",
       "1      9.5        6  white  \n",
       "2     10.1        6  white  \n",
       "3      9.9        6  white  \n",
       "4      9.9        6  white  "
      ]
     },
     "execution_count": 53,
     "metadata": {},
     "output_type": "execute_result"
    }
   ],
   "source": [
    "white_wine.head()"
   ]
  },
  {
   "cell_type": "code",
   "execution_count": 54,
   "id": "42d7a96e-3dbd-4baa-8cc3-2e1137f99b75",
   "metadata": {},
   "outputs": [
    {
     "data": {
      "text/plain": [
       "(1599, 13)"
      ]
     },
     "execution_count": 54,
     "metadata": {},
     "output_type": "execute_result"
    }
   ],
   "source": [
    "red_wine.shape"
   ]
  },
  {
   "cell_type": "code",
   "execution_count": 55,
   "id": "bee053e8-4959-4601-a858-df66add83b7c",
   "metadata": {},
   "outputs": [
    {
     "data": {
      "text/plain": [
       "(4898, 13)"
      ]
     },
     "execution_count": 55,
     "metadata": {},
     "output_type": "execute_result"
    }
   ],
   "source": [
    "white_wine.shape"
   ]
  },
  {
   "cell_type": "code",
   "execution_count": 56,
   "id": "32ed3d6b-f475-4d2c-97c7-7776358fd8de",
   "metadata": {},
   "outputs": [
    {
     "data": {
      "text/plain": [
       "Index(['fixed acidity', 'volatile acidity', 'citric acid', 'residual sugar',\n",
       "       'chlorides', 'free sulfur dioxide', 'total sulfur dioxide', 'density',\n",
       "       'pH', 'sulphates', 'alcohol', 'quality', 'type'],\n",
       "      dtype='object')"
      ]
     },
     "execution_count": 56,
     "metadata": {},
     "output_type": "execute_result"
    }
   ],
   "source": [
    "red_wine.columns"
   ]
  },
  {
   "cell_type": "code",
   "execution_count": 57,
   "id": "9497e6d2-27fb-4038-8eba-9b7c0459c92b",
   "metadata": {},
   "outputs": [
    {
     "data": {
      "text/plain": [
       "Index(['fixed acidity', 'volatile acidity', 'citric acid', 'residual sugar',\n",
       "       'chlorides', 'free sulfur dioxide', 'total sulfur dioxide', 'density',\n",
       "       'pH', 'sulphates', 'alcohol', 'quality', 'type'],\n",
       "      dtype='object')"
      ]
     },
     "execution_count": 57,
     "metadata": {},
     "output_type": "execute_result"
    }
   ],
   "source": [
    "white_wine.columns"
   ]
  },
  {
   "cell_type": "code",
   "execution_count": 58,
   "id": "8b322b64-bc4b-4c69-afc4-88a623698b02",
   "metadata": {},
   "outputs": [],
   "source": [
    "white_wine['quality_label'] = white_wine['quality'].apply(lambda value: 'low' \n",
    "                                                              if value <= 5 else 'medium' \n",
    "                                                                  if value <= 7 else 'high')\n",
    "white_wine['quality_label'] = pd.Categorical(white_wine['quality_label'], \n",
    "                                             categories=['low', 'medium', 'high'])\n",
    "\n",
    "# merge red and white wine datasets\n",
    "wine = pd.concat([red_wine, white_wine])   # concatenating horizontally since by default axis=0\n",
    "\n",
    "# re-shuffle records just to randomize data points\n",
    "wine = wine.sample(frac=1, random_state=42).reset_index(drop=True)"
   ]
  },
  {
   "cell_type": "markdown",
   "id": "f1b60e79-d861-4cec-9dc4-8658bf8f0ce9",
   "metadata": {},
   "source": [
    "### Understand dataset features and values"
   ]
  },
  {
   "cell_type": "code",
   "execution_count": 59,
   "id": "662c5c36-396b-489e-a329-7688e5f8830e",
   "metadata": {},
   "outputs": [
    {
     "data": {
      "text/html": [
       "<div>\n",
       "<style scoped>\n",
       "    .dataframe tbody tr th:only-of-type {\n",
       "        vertical-align: middle;\n",
       "    }\n",
       "\n",
       "    .dataframe tbody tr th {\n",
       "        vertical-align: top;\n",
       "    }\n",
       "\n",
       "    .dataframe thead th {\n",
       "        text-align: right;\n",
       "    }\n",
       "</style>\n",
       "<table border=\"1\" class=\"dataframe\">\n",
       "  <thead>\n",
       "    <tr style=\"text-align: right;\">\n",
       "      <th></th>\n",
       "      <th>fixed acidity</th>\n",
       "      <th>volatile acidity</th>\n",
       "      <th>citric acid</th>\n",
       "      <th>residual sugar</th>\n",
       "      <th>chlorides</th>\n",
       "      <th>free sulfur dioxide</th>\n",
       "      <th>total sulfur dioxide</th>\n",
       "      <th>density</th>\n",
       "      <th>pH</th>\n",
       "      <th>sulphates</th>\n",
       "      <th>alcohol</th>\n",
       "      <th>quality</th>\n",
       "      <th>type</th>\n",
       "      <th>quality_label</th>\n",
       "    </tr>\n",
       "  </thead>\n",
       "  <tbody>\n",
       "    <tr>\n",
       "      <th>0</th>\n",
       "      <td>7.0</td>\n",
       "      <td>0.17</td>\n",
       "      <td>0.74</td>\n",
       "      <td>12.8</td>\n",
       "      <td>0.045</td>\n",
       "      <td>24.0</td>\n",
       "      <td>126.0</td>\n",
       "      <td>0.99420</td>\n",
       "      <td>3.26</td>\n",
       "      <td>0.38</td>\n",
       "      <td>12.2</td>\n",
       "      <td>8</td>\n",
       "      <td>white</td>\n",
       "      <td>high</td>\n",
       "    </tr>\n",
       "    <tr>\n",
       "      <th>1</th>\n",
       "      <td>7.7</td>\n",
       "      <td>0.64</td>\n",
       "      <td>0.21</td>\n",
       "      <td>2.2</td>\n",
       "      <td>0.077</td>\n",
       "      <td>32.0</td>\n",
       "      <td>133.0</td>\n",
       "      <td>0.99560</td>\n",
       "      <td>3.27</td>\n",
       "      <td>0.45</td>\n",
       "      <td>9.9</td>\n",
       "      <td>5</td>\n",
       "      <td>Red</td>\n",
       "      <td>NaN</td>\n",
       "    </tr>\n",
       "    <tr>\n",
       "      <th>2</th>\n",
       "      <td>6.8</td>\n",
       "      <td>0.39</td>\n",
       "      <td>0.34</td>\n",
       "      <td>7.4</td>\n",
       "      <td>0.020</td>\n",
       "      <td>38.0</td>\n",
       "      <td>133.0</td>\n",
       "      <td>0.99212</td>\n",
       "      <td>3.18</td>\n",
       "      <td>0.44</td>\n",
       "      <td>12.0</td>\n",
       "      <td>7</td>\n",
       "      <td>white</td>\n",
       "      <td>medium</td>\n",
       "    </tr>\n",
       "    <tr>\n",
       "      <th>3</th>\n",
       "      <td>6.3</td>\n",
       "      <td>0.28</td>\n",
       "      <td>0.47</td>\n",
       "      <td>11.2</td>\n",
       "      <td>0.040</td>\n",
       "      <td>61.0</td>\n",
       "      <td>183.0</td>\n",
       "      <td>0.99592</td>\n",
       "      <td>3.12</td>\n",
       "      <td>0.51</td>\n",
       "      <td>9.5</td>\n",
       "      <td>6</td>\n",
       "      <td>white</td>\n",
       "      <td>medium</td>\n",
       "    </tr>\n",
       "    <tr>\n",
       "      <th>4</th>\n",
       "      <td>7.4</td>\n",
       "      <td>0.35</td>\n",
       "      <td>0.20</td>\n",
       "      <td>13.9</td>\n",
       "      <td>0.054</td>\n",
       "      <td>63.0</td>\n",
       "      <td>229.0</td>\n",
       "      <td>0.99888</td>\n",
       "      <td>3.11</td>\n",
       "      <td>0.50</td>\n",
       "      <td>8.9</td>\n",
       "      <td>6</td>\n",
       "      <td>white</td>\n",
       "      <td>medium</td>\n",
       "    </tr>\n",
       "  </tbody>\n",
       "</table>\n",
       "</div>"
      ],
      "text/plain": [
       "   fixed acidity  volatile acidity  citric acid  residual sugar  chlorides  \\\n",
       "0            7.0              0.17         0.74            12.8      0.045   \n",
       "1            7.7              0.64         0.21             2.2      0.077   \n",
       "2            6.8              0.39         0.34             7.4      0.020   \n",
       "3            6.3              0.28         0.47            11.2      0.040   \n",
       "4            7.4              0.35         0.20            13.9      0.054   \n",
       "\n",
       "   free sulfur dioxide  total sulfur dioxide  density    pH  sulphates  \\\n",
       "0                 24.0                 126.0  0.99420  3.26       0.38   \n",
       "1                 32.0                 133.0  0.99560  3.27       0.45   \n",
       "2                 38.0                 133.0  0.99212  3.18       0.44   \n",
       "3                 61.0                 183.0  0.99592  3.12       0.51   \n",
       "4                 63.0                 229.0  0.99888  3.11       0.50   \n",
       "\n",
       "   alcohol  quality   type quality_label  \n",
       "0     12.2        8  white          high  \n",
       "1      9.9        5    Red           NaN  \n",
       "2     12.0        7  white        medium  \n",
       "3      9.5        6  white        medium  \n",
       "4      8.9        6  white        medium  "
      ]
     },
     "execution_count": 59,
     "metadata": {},
     "output_type": "execute_result"
    }
   ],
   "source": [
    "wine.head()"
   ]
  },
  {
   "cell_type": "code",
   "execution_count": 60,
   "id": "a4d0c6d2-d8b4-48c4-beca-1809300dde0e",
   "metadata": {},
   "outputs": [
    {
     "name": "stdout",
     "output_type": "stream",
     "text": [
      "<class 'pandas.core.frame.DataFrame'>\n",
      "RangeIndex: 6497 entries, 0 to 6496\n",
      "Data columns (total 14 columns):\n",
      " #   Column                Non-Null Count  Dtype   \n",
      "---  ------                --------------  -----   \n",
      " 0   fixed acidity         6497 non-null   float64 \n",
      " 1   volatile acidity      6497 non-null   float64 \n",
      " 2   citric acid           6497 non-null   float64 \n",
      " 3   residual sugar        6497 non-null   float64 \n",
      " 4   chlorides             6497 non-null   float64 \n",
      " 5   free sulfur dioxide   6497 non-null   float64 \n",
      " 6   total sulfur dioxide  6497 non-null   float64 \n",
      " 7   density               6497 non-null   float64 \n",
      " 8   pH                    6497 non-null   float64 \n",
      " 9   sulphates             6497 non-null   float64 \n",
      " 10  alcohol               6497 non-null   float64 \n",
      " 11  quality               6497 non-null   int64   \n",
      " 12  type                  6497 non-null   object  \n",
      " 13  quality_label         4898 non-null   category\n",
      "dtypes: category(1), float64(11), int64(1), object(1)\n",
      "memory usage: 666.5+ KB\n"
     ]
    }
   ],
   "source": [
    "wine.info()"
   ]
  },
  {
   "cell_type": "code",
   "execution_count": 61,
   "id": "7e4b41eb-5e62-4ffd-a8d7-a3fb34f9f5f0",
   "metadata": {},
   "outputs": [
    {
     "data": {
      "text/html": [
       "<div>\n",
       "<style scoped>\n",
       "    .dataframe tbody tr th:only-of-type {\n",
       "        vertical-align: middle;\n",
       "    }\n",
       "\n",
       "    .dataframe tbody tr th {\n",
       "        vertical-align: top;\n",
       "    }\n",
       "\n",
       "    .dataframe thead th {\n",
       "        text-align: right;\n",
       "    }\n",
       "</style>\n",
       "<table border=\"1\" class=\"dataframe\">\n",
       "  <thead>\n",
       "    <tr style=\"text-align: right;\">\n",
       "      <th></th>\n",
       "      <th>fixed acidity</th>\n",
       "      <th>volatile acidity</th>\n",
       "      <th>citric acid</th>\n",
       "      <th>residual sugar</th>\n",
       "      <th>chlorides</th>\n",
       "      <th>free sulfur dioxide</th>\n",
       "      <th>total sulfur dioxide</th>\n",
       "      <th>density</th>\n",
       "      <th>pH</th>\n",
       "      <th>sulphates</th>\n",
       "      <th>alcohol</th>\n",
       "      <th>quality</th>\n",
       "    </tr>\n",
       "  </thead>\n",
       "  <tbody>\n",
       "    <tr>\n",
       "      <th>count</th>\n",
       "      <td>6497.000000</td>\n",
       "      <td>6497.000000</td>\n",
       "      <td>6497.000000</td>\n",
       "      <td>6497.000000</td>\n",
       "      <td>6497.000000</td>\n",
       "      <td>6497.000000</td>\n",
       "      <td>6497.000000</td>\n",
       "      <td>6497.000000</td>\n",
       "      <td>6497.000000</td>\n",
       "      <td>6497.000000</td>\n",
       "      <td>6497.000000</td>\n",
       "      <td>6497.000000</td>\n",
       "    </tr>\n",
       "    <tr>\n",
       "      <th>mean</th>\n",
       "      <td>7.215307</td>\n",
       "      <td>0.339666</td>\n",
       "      <td>0.318633</td>\n",
       "      <td>5.443235</td>\n",
       "      <td>0.056034</td>\n",
       "      <td>30.525473</td>\n",
       "      <td>115.744728</td>\n",
       "      <td>0.994697</td>\n",
       "      <td>3.218501</td>\n",
       "      <td>0.531268</td>\n",
       "      <td>10.491801</td>\n",
       "      <td>5.818378</td>\n",
       "    </tr>\n",
       "    <tr>\n",
       "      <th>std</th>\n",
       "      <td>1.296434</td>\n",
       "      <td>0.164636</td>\n",
       "      <td>0.145318</td>\n",
       "      <td>4.757804</td>\n",
       "      <td>0.035034</td>\n",
       "      <td>17.749313</td>\n",
       "      <td>56.521751</td>\n",
       "      <td>0.002999</td>\n",
       "      <td>0.160787</td>\n",
       "      <td>0.148806</td>\n",
       "      <td>1.192712</td>\n",
       "      <td>0.873255</td>\n",
       "    </tr>\n",
       "    <tr>\n",
       "      <th>min</th>\n",
       "      <td>3.800000</td>\n",
       "      <td>0.080000</td>\n",
       "      <td>0.000000</td>\n",
       "      <td>0.600000</td>\n",
       "      <td>0.009000</td>\n",
       "      <td>1.000000</td>\n",
       "      <td>6.000000</td>\n",
       "      <td>0.987110</td>\n",
       "      <td>2.720000</td>\n",
       "      <td>0.220000</td>\n",
       "      <td>8.000000</td>\n",
       "      <td>3.000000</td>\n",
       "    </tr>\n",
       "    <tr>\n",
       "      <th>25%</th>\n",
       "      <td>6.400000</td>\n",
       "      <td>0.230000</td>\n",
       "      <td>0.250000</td>\n",
       "      <td>1.800000</td>\n",
       "      <td>0.038000</td>\n",
       "      <td>17.000000</td>\n",
       "      <td>77.000000</td>\n",
       "      <td>0.992340</td>\n",
       "      <td>3.110000</td>\n",
       "      <td>0.430000</td>\n",
       "      <td>9.500000</td>\n",
       "      <td>5.000000</td>\n",
       "    </tr>\n",
       "    <tr>\n",
       "      <th>50%</th>\n",
       "      <td>7.000000</td>\n",
       "      <td>0.290000</td>\n",
       "      <td>0.310000</td>\n",
       "      <td>3.000000</td>\n",
       "      <td>0.047000</td>\n",
       "      <td>29.000000</td>\n",
       "      <td>118.000000</td>\n",
       "      <td>0.994890</td>\n",
       "      <td>3.210000</td>\n",
       "      <td>0.510000</td>\n",
       "      <td>10.300000</td>\n",
       "      <td>6.000000</td>\n",
       "    </tr>\n",
       "    <tr>\n",
       "      <th>75%</th>\n",
       "      <td>7.700000</td>\n",
       "      <td>0.400000</td>\n",
       "      <td>0.390000</td>\n",
       "      <td>8.100000</td>\n",
       "      <td>0.065000</td>\n",
       "      <td>41.000000</td>\n",
       "      <td>156.000000</td>\n",
       "      <td>0.996990</td>\n",
       "      <td>3.320000</td>\n",
       "      <td>0.600000</td>\n",
       "      <td>11.300000</td>\n",
       "      <td>6.000000</td>\n",
       "    </tr>\n",
       "    <tr>\n",
       "      <th>max</th>\n",
       "      <td>15.900000</td>\n",
       "      <td>1.580000</td>\n",
       "      <td>1.660000</td>\n",
       "      <td>65.800000</td>\n",
       "      <td>0.611000</td>\n",
       "      <td>289.000000</td>\n",
       "      <td>440.000000</td>\n",
       "      <td>1.038980</td>\n",
       "      <td>4.010000</td>\n",
       "      <td>2.000000</td>\n",
       "      <td>14.900000</td>\n",
       "      <td>9.000000</td>\n",
       "    </tr>\n",
       "  </tbody>\n",
       "</table>\n",
       "</div>"
      ],
      "text/plain": [
       "       fixed acidity  volatile acidity  citric acid  residual sugar  \\\n",
       "count    6497.000000       6497.000000  6497.000000     6497.000000   \n",
       "mean        7.215307          0.339666     0.318633        5.443235   \n",
       "std         1.296434          0.164636     0.145318        4.757804   \n",
       "min         3.800000          0.080000     0.000000        0.600000   \n",
       "25%         6.400000          0.230000     0.250000        1.800000   \n",
       "50%         7.000000          0.290000     0.310000        3.000000   \n",
       "75%         7.700000          0.400000     0.390000        8.100000   \n",
       "max        15.900000          1.580000     1.660000       65.800000   \n",
       "\n",
       "         chlorides  free sulfur dioxide  total sulfur dioxide      density  \\\n",
       "count  6497.000000          6497.000000           6497.000000  6497.000000   \n",
       "mean      0.056034            30.525473            115.744728     0.994697   \n",
       "std       0.035034            17.749313             56.521751     0.002999   \n",
       "min       0.009000             1.000000              6.000000     0.987110   \n",
       "25%       0.038000            17.000000             77.000000     0.992340   \n",
       "50%       0.047000            29.000000            118.000000     0.994890   \n",
       "75%       0.065000            41.000000            156.000000     0.996990   \n",
       "max       0.611000           289.000000            440.000000     1.038980   \n",
       "\n",
       "                pH    sulphates      alcohol      quality  \n",
       "count  6497.000000  6497.000000  6497.000000  6497.000000  \n",
       "mean      3.218501     0.531268    10.491801     5.818378  \n",
       "std       0.160787     0.148806     1.192712     0.873255  \n",
       "min       2.720000     0.220000     8.000000     3.000000  \n",
       "25%       3.110000     0.430000     9.500000     5.000000  \n",
       "50%       3.210000     0.510000    10.300000     6.000000  \n",
       "75%       3.320000     0.600000    11.300000     6.000000  \n",
       "max       4.010000     2.000000    14.900000     9.000000  "
      ]
     },
     "execution_count": 61,
     "metadata": {},
     "output_type": "execute_result"
    }
   ],
   "source": [
    "wine.describe()"
   ]
  },
  {
   "cell_type": "markdown",
   "id": "37a500e8-a8a1-429c-bd7d-cbfe3a082b28",
   "metadata": {},
   "source": []
  },
  {
   "cell_type": "markdown",
   "id": "aeeb4868-5df0-4347-9c98-7c3ab079cd6a",
   "metadata": {},
   "source": [
    "# data Analysis and Visualizations\n"
   ]
  },
  {
   "cell_type": "code",
   "execution_count": 62,
   "id": "ea396f68-b2e5-47b6-8063-c379cb9c382b",
   "metadata": {},
   "outputs": [
    {
     "data": {
      "text/plain": [
       "[3, 4, 5, 6, 7, 8, 9]"
      ]
     },
     "execution_count": 62,
     "metadata": {},
     "output_type": "execute_result"
    }
   ],
   "source": [
    "sorted(wine['quality'].unique())"
   ]
  },
  {
   "cell_type": "markdown",
   "id": "8381c7d9-e691-4b4e-b24b-051b0300cac4",
   "metadata": {},
   "source": [
    "#### Barplot is chosen since the wine quality is limited to certain values. Despite being similar to continuous data, it's more more similar to categorical ones. Using barplot can give us a better overview with the distribution. Other data is being plot as distplot."
   ]
  },
  {
   "cell_type": "code",
   "execution_count": 63,
   "id": "7b9b6a8d-7dd3-4308-927c-d1e88b5891ce",
   "metadata": {},
   "outputs": [
    {
     "data": {
      "image/png": "[encoded data removed]",
      "text/plain": [
       "<Figure size 640x480 with 12 Axes>"
      ]
     },
     "metadata": {},
     "output_type": "display_data"
    }
   ],
   "source": [
    "wine.hist(bins=15, color='steelblue', edgecolor='black', linewidth=1.0,\n",
    "              xlabelsize=8, ylabelsize=8, grid=False)\n",
    "\n",
    "# command to give space b/t diff. plots \n",
    "plt.tight_layout(rect=(0, 0, 1.2, 1.2)) "
   ]
  },
  {
   "cell_type": "code",
   "execution_count": 64,
   "id": "bda55bb3-a075-469d-a4d9-dbcd629ce046",
   "metadata": {},
   "outputs": [],
   "source": [
    "\n",
    "count_cat = wine.nunique() # it shows us how much unique examples we have in each feature"
   ]
  },
  {
   "cell_type": "code",
   "execution_count": 65,
   "id": "b22fe99c-da4b-457c-8e30-4b2064754362",
   "metadata": {},
   "outputs": [
    {
     "data": {
      "text/plain": [
       "fixed acidity           106\n",
       "volatile acidity        187\n",
       "citric acid              89\n",
       "residual sugar          316\n",
       "chlorides               214\n",
       "free sulfur dioxide     133\n",
       "total sulfur dioxide    275\n",
       "density                 998\n",
       "pH                      108\n",
       "sulphates               111\n",
       "alcohol                 111\n",
       "quality                   7\n",
       "type                      2\n",
       "quality_label             3\n",
       "dtype: int64"
      ]
     },
     "execution_count": 65,
     "metadata": {},
     "output_type": "execute_result"
    }
   ],
   "source": [
    "count_cat"
   ]
  },
  {
   "cell_type": "code",
   "execution_count": 66,
   "id": "fdcd8a3e-2c86-4eeb-a5b1-b7eaf5b4c47a",
   "metadata": {},
   "outputs": [
    {
     "data": {
      "text/plain": [
       "white    4898\n",
       "Red      1599\n",
       "Name: type, dtype: int64"
      ]
     },
     "execution_count": 66,
     "metadata": {},
     "output_type": "execute_result"
    }
   ],
   "source": [
    "wine['type'].value_counts() "
   ]
  },
  {
   "cell_type": "code",
   "execution_count": 67,
   "id": "c372283b-9a4a-4e42-9790-f43ced4d70d0",
   "metadata": {},
   "outputs": [
    {
     "data": {
      "text/plain": [
       "white    75.388641\n",
       "Red      24.611359\n",
       "Name: type, dtype: float64"
      ]
     },
     "execution_count": 67,
     "metadata": {},
     "output_type": "execute_result"
    }
   ],
   "source": [
    "# The distribution of the examples in our dataset\n",
    "wine['type'].value_counts(\"white\")*100 # in %\n",
    "wine['type'].value_counts(\"red\")*100 # in %"
   ]
  },
  {
   "cell_type": "code",
   "execution_count": 68,
   "id": "e3791ec0-88a9-4cb1-a987-6a7595674ec8",
   "metadata": {},
   "outputs": [
    {
     "data": {
      "image/png": "[encoded data removed]",
      "text/plain": [
       "<Figure size 1000x500 with 1 Axes>"
      ]
     },
     "metadata": {},
     "output_type": "display_data"
    }
   ],
   "source": [
    "plt.figure(figsize = (10,5))\n",
    "sns.countplot(x = wine['type']); # we will plot it for better illustration"
   ]
  },
  {
   "cell_type": "markdown",
   "id": "5c641a29-be6d-4df1-a949-8c5aff727688",
   "metadata": {},
   "source": [
    "It seems that we have much more white wine than red wine. It will be usefull for our dummy classifier.\n"
   ]
  },
  {
   "cell_type": "code",
   "execution_count": 69,
   "id": "3593197b-fa3e-4b54-9999-5868bb64db4c",
   "metadata": {},
   "outputs": [
    {
     "data": {
      "image/png": "[encoded data removed]",
      "text/plain": [
       "<Figure size 640x480 with 1 Axes>"
      ]
     },
     "metadata": {},
     "output_type": "display_data"
    }
   ],
   "source": [
    "# Pie chart\n",
    "labels = ['White', 'Red'] # every label represnts a type\n",
    "pie_x = 0.753886 # the distribution\n",
    "pie_y = 0.246114 # the distribution\n",
    "sizes = [pie_x,pie_y] # we have two types and their distribution\n",
    "explode = (0, 0.15) # the distance between the pic slicers\n",
    "col_pie = [\"silver\",\"red\"] # for the colors\n",
    "fig1, ax1 = plt.subplots()\n",
    "ax1.pie(sizes, explode=explode, labels=labels,colors=col_pie, autopct='%1.1f%%',\n",
    "        shadow=True, startangle=93)\n",
    "# equal aspect ratio ensures that pie is drawn as a circle\n",
    "plt.title(\"Types division:\", size=20, color=\"blue\")\n",
    "ax1.axis('equal')  \n",
    "plt.tight_layout()\n",
    "plt.show()"
   ]
  },
  {
   "cell_type": "code",
   "execution_count": 70,
   "id": "58e02fc7-f926-4361-adf1-09b4aab08f44",
   "metadata": {},
   "outputs": [
    {
     "data": {
      "image/png": "[encoded data removed]",
      "text/plain": [
       "<Figure size 1600x600 with 1 Axes>"
      ]
     },
     "metadata": {},
     "output_type": "display_data"
    }
   ],
   "source": [
    "# another plot to show us more intersting details about the dataset\n",
    "plt.figure(figsize = (16,6))\n",
    "plt.title(\"The quality distribution of the wine according to it's type\", size=18, color='b')\n",
    "sns.countplot(x=wine['quality'], hue = wine['type']);"
   ]
  },
  {
   "cell_type": "markdown",
   "id": "63fd078d-5bbe-4406-9f45-79bdabf14034",
   "metadata": {},
   "source": [
    "We can see that we have some quality for each wine. Let's take a look on it:"
   ]
  },
  {
   "cell_type": "code",
   "execution_count": 71,
   "id": "edf94d68-90ab-4482-9bcd-26f7b04c7f79",
   "metadata": {},
   "outputs": [
    {
     "data": {
      "text/plain": [
       "6    2836\n",
       "5    2138\n",
       "7    1079\n",
       "4     216\n",
       "8     193\n",
       "3      30\n",
       "9       5\n",
       "Name: quality, dtype: int64"
      ]
     },
     "execution_count": 71,
     "metadata": {},
     "output_type": "execute_result"
    }
   ],
   "source": [
    "wine[\"quality\"].value_counts() # the amount of wine we have from each quality number"
   ]
  },
  {
   "cell_type": "markdown",
   "id": "bf4a5047-723f-4c6f-ade8-82a70ede166b",
   "metadata": {},
   "source": [
    "Let's try something else, we will groupby the wine into type groups to see which one has a greater quality:"
   ]
  },
  {
   "cell_type": "code",
   "execution_count": 72,
   "id": "30984812-fe47-4f69-b6e6-73a39081441c",
   "metadata": {},
   "outputs": [
    {
     "data": {
      "text/plain": [
       "<pandas.core.groupby.generic.DataFrameGroupBy object at 0x000001F591D8D710>"
      ]
     },
     "execution_count": 72,
     "metadata": {},
     "output_type": "execute_result"
    }
   ],
   "source": [
    "df_types = wine.groupby('type') #by type\n",
    "df_types"
   ]
  },
  {
   "cell_type": "code",
   "execution_count": 73,
   "id": "d92c5f07-54b7-4dce-81e2-dc69eb6d7b5c",
   "metadata": {},
   "outputs": [
    {
     "data": {
      "text/plain": [
       "type\n",
       "Red      5.636023\n",
       "white    5.877909\n",
       "Name: quality, dtype: float64"
      ]
     },
     "execution_count": 73,
     "metadata": {},
     "output_type": "execute_result"
    }
   ],
   "source": [
    "df_types.quality.mean() # the mean of the quality for each type"
   ]
  },
  {
   "cell_type": "markdown",
   "id": "331971f7-ba94-402c-93f3-34a1bd2a43dc",
   "metadata": {},
   "source": [
    "As we can see, the white wine that we have in the dataset, has a little bit better quality than the red wine."
   ]
  },
  {
   "cell_type": "code",
   "execution_count": 74,
   "id": "3b07fd0f-05e2-4b6a-85b9-80c2f42a1d6c",
   "metadata": {},
   "outputs": [],
   "source": [
    "from sklearn.preprocessing import LabelEncoder\n",
    "encoder = LabelEncoder()\n",
    "wine['type'] = encoder.fit_transform(wine['type'])\n",
    "# red = 0\n",
    "# white = 1"
   ]
  },
  {
   "cell_type": "code",
   "execution_count": 75,
   "id": "abc17098-c399-4119-aeda-6261165cdedc",
   "metadata": {},
   "outputs": [
    {
     "data": {
      "text/plain": [
       "1    4898\n",
       "0    1599\n",
       "Name: type, dtype: int64"
      ]
     },
     "execution_count": 75,
     "metadata": {},
     "output_type": "execute_result"
    }
   ],
   "source": [
    "wine[\"type\"].value_counts()\n"
   ]
  },
  {
   "cell_type": "code",
   "execution_count": 76,
   "id": "c7f47593-3dd0-402e-a6bd-bda86ba056f7",
   "metadata": {},
   "outputs": [
    {
     "data": {
      "text/html": [
       "<div>\n",
       "<style scoped>\n",
       "    .dataframe tbody tr th:only-of-type {\n",
       "        vertical-align: middle;\n",
       "    }\n",
       "\n",
       "    .dataframe tbody tr th {\n",
       "        vertical-align: top;\n",
       "    }\n",
       "\n",
       "    .dataframe thead th {\n",
       "        text-align: right;\n",
       "    }\n",
       "</style>\n",
       "<table border=\"1\" class=\"dataframe\">\n",
       "  <thead>\n",
       "    <tr style=\"text-align: right;\">\n",
       "      <th></th>\n",
       "      <th>fixed acidity</th>\n",
       "      <th>volatile acidity</th>\n",
       "      <th>citric acid</th>\n",
       "      <th>residual sugar</th>\n",
       "      <th>chlorides</th>\n",
       "      <th>free sulfur dioxide</th>\n",
       "      <th>total sulfur dioxide</th>\n",
       "      <th>density</th>\n",
       "      <th>pH</th>\n",
       "      <th>sulphates</th>\n",
       "      <th>alcohol</th>\n",
       "      <th>quality</th>\n",
       "      <th>type</th>\n",
       "      <th>quality_label</th>\n",
       "    </tr>\n",
       "  </thead>\n",
       "  <tbody>\n",
       "    <tr>\n",
       "      <th>0</th>\n",
       "      <td>7.0</td>\n",
       "      <td>0.17</td>\n",
       "      <td>0.74</td>\n",
       "      <td>12.80</td>\n",
       "      <td>0.045</td>\n",
       "      <td>24.0</td>\n",
       "      <td>126.0</td>\n",
       "      <td>0.99420</td>\n",
       "      <td>3.26</td>\n",
       "      <td>0.38</td>\n",
       "      <td>12.2</td>\n",
       "      <td>8</td>\n",
       "      <td>1</td>\n",
       "      <td>high</td>\n",
       "    </tr>\n",
       "    <tr>\n",
       "      <th>1</th>\n",
       "      <td>7.7</td>\n",
       "      <td>0.64</td>\n",
       "      <td>0.21</td>\n",
       "      <td>2.20</td>\n",
       "      <td>0.077</td>\n",
       "      <td>32.0</td>\n",
       "      <td>133.0</td>\n",
       "      <td>0.99560</td>\n",
       "      <td>3.27</td>\n",
       "      <td>0.45</td>\n",
       "      <td>9.9</td>\n",
       "      <td>5</td>\n",
       "      <td>0</td>\n",
       "      <td>NaN</td>\n",
       "    </tr>\n",
       "    <tr>\n",
       "      <th>2</th>\n",
       "      <td>6.8</td>\n",
       "      <td>0.39</td>\n",
       "      <td>0.34</td>\n",
       "      <td>7.40</td>\n",
       "      <td>0.020</td>\n",
       "      <td>38.0</td>\n",
       "      <td>133.0</td>\n",
       "      <td>0.99212</td>\n",
       "      <td>3.18</td>\n",
       "      <td>0.44</td>\n",
       "      <td>12.0</td>\n",
       "      <td>7</td>\n",
       "      <td>1</td>\n",
       "      <td>medium</td>\n",
       "    </tr>\n",
       "    <tr>\n",
       "      <th>3</th>\n",
       "      <td>6.3</td>\n",
       "      <td>0.28</td>\n",
       "      <td>0.47</td>\n",
       "      <td>11.20</td>\n",
       "      <td>0.040</td>\n",
       "      <td>61.0</td>\n",
       "      <td>183.0</td>\n",
       "      <td>0.99592</td>\n",
       "      <td>3.12</td>\n",
       "      <td>0.51</td>\n",
       "      <td>9.5</td>\n",
       "      <td>6</td>\n",
       "      <td>1</td>\n",
       "      <td>medium</td>\n",
       "    </tr>\n",
       "    <tr>\n",
       "      <th>4</th>\n",
       "      <td>7.4</td>\n",
       "      <td>0.35</td>\n",
       "      <td>0.20</td>\n",
       "      <td>13.90</td>\n",
       "      <td>0.054</td>\n",
       "      <td>63.0</td>\n",
       "      <td>229.0</td>\n",
       "      <td>0.99888</td>\n",
       "      <td>3.11</td>\n",
       "      <td>0.50</td>\n",
       "      <td>8.9</td>\n",
       "      <td>6</td>\n",
       "      <td>1</td>\n",
       "      <td>medium</td>\n",
       "    </tr>\n",
       "    <tr>\n",
       "      <th>...</th>\n",
       "      <td>...</td>\n",
       "      <td>...</td>\n",
       "      <td>...</td>\n",
       "      <td>...</td>\n",
       "      <td>...</td>\n",
       "      <td>...</td>\n",
       "      <td>...</td>\n",
       "      <td>...</td>\n",
       "      <td>...</td>\n",
       "      <td>...</td>\n",
       "      <td>...</td>\n",
       "      <td>...</td>\n",
       "      <td>...</td>\n",
       "      <td>...</td>\n",
       "    </tr>\n",
       "    <tr>\n",
       "      <th>6492</th>\n",
       "      <td>7.6</td>\n",
       "      <td>0.32</td>\n",
       "      <td>0.58</td>\n",
       "      <td>16.75</td>\n",
       "      <td>0.050</td>\n",
       "      <td>43.0</td>\n",
       "      <td>163.0</td>\n",
       "      <td>0.99990</td>\n",
       "      <td>3.15</td>\n",
       "      <td>0.54</td>\n",
       "      <td>9.2</td>\n",
       "      <td>5</td>\n",
       "      <td>1</td>\n",
       "      <td>low</td>\n",
       "    </tr>\n",
       "    <tr>\n",
       "      <th>6493</th>\n",
       "      <td>5.6</td>\n",
       "      <td>0.28</td>\n",
       "      <td>0.27</td>\n",
       "      <td>3.90</td>\n",
       "      <td>0.043</td>\n",
       "      <td>52.0</td>\n",
       "      <td>158.0</td>\n",
       "      <td>0.99202</td>\n",
       "      <td>3.35</td>\n",
       "      <td>0.44</td>\n",
       "      <td>10.7</td>\n",
       "      <td>7</td>\n",
       "      <td>1</td>\n",
       "      <td>medium</td>\n",
       "    </tr>\n",
       "    <tr>\n",
       "      <th>6494</th>\n",
       "      <td>6.4</td>\n",
       "      <td>0.37</td>\n",
       "      <td>0.20</td>\n",
       "      <td>5.60</td>\n",
       "      <td>0.117</td>\n",
       "      <td>61.0</td>\n",
       "      <td>183.0</td>\n",
       "      <td>0.99459</td>\n",
       "      <td>3.24</td>\n",
       "      <td>0.43</td>\n",
       "      <td>9.5</td>\n",
       "      <td>5</td>\n",
       "      <td>1</td>\n",
       "      <td>low</td>\n",
       "    </tr>\n",
       "    <tr>\n",
       "      <th>6495</th>\n",
       "      <td>6.5</td>\n",
       "      <td>0.26</td>\n",
       "      <td>0.50</td>\n",
       "      <td>8.00</td>\n",
       "      <td>0.051</td>\n",
       "      <td>46.0</td>\n",
       "      <td>197.0</td>\n",
       "      <td>0.99536</td>\n",
       "      <td>3.18</td>\n",
       "      <td>0.47</td>\n",
       "      <td>9.5</td>\n",
       "      <td>5</td>\n",
       "      <td>1</td>\n",
       "      <td>low</td>\n",
       "    </tr>\n",
       "    <tr>\n",
       "      <th>6496</th>\n",
       "      <td>7.2</td>\n",
       "      <td>0.62</td>\n",
       "      <td>0.06</td>\n",
       "      <td>2.70</td>\n",
       "      <td>0.077</td>\n",
       "      <td>15.0</td>\n",
       "      <td>85.0</td>\n",
       "      <td>0.99746</td>\n",
       "      <td>3.51</td>\n",
       "      <td>0.54</td>\n",
       "      <td>9.5</td>\n",
       "      <td>5</td>\n",
       "      <td>0</td>\n",
       "      <td>NaN</td>\n",
       "    </tr>\n",
       "  </tbody>\n",
       "</table>\n",
       "<p>6497 rows × 14 columns</p>\n",
       "</div>"
      ],
      "text/plain": [
       "      fixed acidity  volatile acidity  citric acid  residual sugar  chlorides  \\\n",
       "0               7.0              0.17         0.74           12.80      0.045   \n",
       "1               7.7              0.64         0.21            2.20      0.077   \n",
       "2               6.8              0.39         0.34            7.40      0.020   \n",
       "3               6.3              0.28         0.47           11.20      0.040   \n",
       "4               7.4              0.35         0.20           13.90      0.054   \n",
       "...             ...               ...          ...             ...        ...   \n",
       "6492            7.6              0.32         0.58           16.75      0.050   \n",
       "6493            5.6              0.28         0.27            3.90      0.043   \n",
       "6494            6.4              0.37         0.20            5.60      0.117   \n",
       "6495            6.5              0.26         0.50            8.00      0.051   \n",
       "6496            7.2              0.62         0.06            2.70      0.077   \n",
       "\n",
       "      free sulfur dioxide  total sulfur dioxide  density    pH  sulphates  \\\n",
       "0                    24.0                 126.0  0.99420  3.26       0.38   \n",
       "1                    32.0                 133.0  0.99560  3.27       0.45   \n",
       "2                    38.0                 133.0  0.99212  3.18       0.44   \n",
       "3                    61.0                 183.0  0.99592  3.12       0.51   \n",
       "4                    63.0                 229.0  0.99888  3.11       0.50   \n",
       "...                   ...                   ...      ...   ...        ...   \n",
       "6492                 43.0                 163.0  0.99990  3.15       0.54   \n",
       "6493                 52.0                 158.0  0.99202  3.35       0.44   \n",
       "6494                 61.0                 183.0  0.99459  3.24       0.43   \n",
       "6495                 46.0                 197.0  0.99536  3.18       0.47   \n",
       "6496                 15.0                  85.0  0.99746  3.51       0.54   \n",
       "\n",
       "      alcohol  quality  type quality_label  \n",
       "0        12.2        8     1          high  \n",
       "1         9.9        5     0           NaN  \n",
       "2        12.0        7     1        medium  \n",
       "3         9.5        6     1        medium  \n",
       "4         8.9        6     1        medium  \n",
       "...       ...      ...   ...           ...  \n",
       "6492      9.2        5     1           low  \n",
       "6493     10.7        7     1        medium  \n",
       "6494      9.5        5     1           low  \n",
       "6495      9.5        5     1           low  \n",
       "6496      9.5        5     0           NaN  \n",
       "\n",
       "[6497 rows x 14 columns]"
      ]
     },
     "execution_count": 76,
     "metadata": {},
     "output_type": "execute_result"
    }
   ],
   "source": [
    "wine"
   ]
  },
  {
   "cell_type": "code",
   "execution_count": 77,
   "id": "95bd16bc-b0d5-4655-8ba4-ad9efaaf06e1",
   "metadata": {},
   "outputs": [
    {
     "name": "stderr",
     "output_type": "stream",
     "text": [
      "C:\\Users\\nicky\\AppData\\Local\\Temp\\ipykernel_18028\\3117237203.py:3: FutureWarning: The default value of numeric_only in DataFrame.corr is deprecated. In a future version, it will default to False. Select only valid columns or specify the value of numeric_only to silence this warning.\n",
      "  sns.heatmap(wine.corr(), square=True, annot=True, cmap=\"Greens\");\n"
     ]
    },
    {
     "data": {
      "image/png": "[encoded data removed]",
      "text/plain": [
       "<Figure size 2000x1000 with 2 Axes>"
      ]
     },
     "metadata": {},
     "output_type": "display_data"
    }
   ],
   "source": [
    "#I want to know the correalation between each feature\n",
    "plt.figure(figsize=(20, 10))\n",
    "sns.heatmap(wine.corr(), square=True, annot=True, cmap=\"Greens\");\n"
   ]
  },
  {
   "cell_type": "markdown",
   "id": "08f8c465-1980-4c64-9efb-5724cc202ea5",
   "metadata": {},
   "source": [
    "Heatmap is a super important tool, because it tells us the bigger story. As we can see, total sulfur dioxide has a huge effect on the type of the wine (0.7 of correalation). free sulfur dioxide takes the 2nd place with 0.47 of correalation. After it, the residual sugar with 0.35 of correalation. Another intersting thing is the fact that the quality of the wine has a connection to the type of the wine. It will be intresting to find out which one of the types has the higher quality.\n",
    "\n",
    "We would like to see the impact of total sulfur dioxide, free sulfur dioxide and residual sugar on the wine's type. Let's go back to the graphs."
   ]
  },
  {
   "cell_type": "code",
   "execution_count": 78,
   "id": "6ada1ba0-6825-4a50-add7-c7e76ec5d636",
   "metadata": {},
   "outputs": [
    {
     "data": {
      "image/png": "[encoded data removed]",
      "text/plain": [
       "<Figure size 640x480 with 1 Axes>"
      ]
     },
     "metadata": {},
     "output_type": "display_data"
    }
   ],
   "source": [
    "wine.groupby('type')['total sulfur dioxide'].plot(title=\"Type correlation with total sulfur dioxide\", legend=True);\n",
    "# the most important thing here is to watch the difference between the red and white wine\n",
    "# we can also see that there are a few outliers "
   ]
  },
  {
   "cell_type": "code",
   "execution_count": 79,
   "id": "c02a1427-0197-4d30-8802-d2334ad1380e",
   "metadata": {},
   "outputs": [
    {
     "data": {
      "image/png": "[encoded data removed]",
      "text/plain": [
       "<Figure size 640x480 with 1 Axes>"
      ]
     },
     "metadata": {},
     "output_type": "display_data"
    }
   ],
   "source": [
    "wine.groupby('type')['free sulfur dioxide'].plot(title=\"Type correlation with free sulfur dioxide\", legend=True);"
   ]
  },
  {
   "cell_type": "code",
   "execution_count": 80,
   "id": "09e84b44-d299-410b-9a46-9e4b7c35519c",
   "metadata": {},
   "outputs": [
    {
     "data": {
      "text/html": [
       "<div>\n",
       "<style scoped>\n",
       "    .dataframe tbody tr th:only-of-type {\n",
       "        vertical-align: middle;\n",
       "    }\n",
       "\n",
       "    .dataframe tbody tr th {\n",
       "        vertical-align: top;\n",
       "    }\n",
       "\n",
       "    .dataframe thead th {\n",
       "        text-align: right;\n",
       "    }\n",
       "</style>\n",
       "<table border=\"1\" class=\"dataframe\">\n",
       "  <thead>\n",
       "    <tr style=\"text-align: right;\">\n",
       "      <th></th>\n",
       "      <th>fixed acidity</th>\n",
       "      <th>volatile acidity</th>\n",
       "      <th>citric acid</th>\n",
       "      <th>residual sugar</th>\n",
       "      <th>chlorides</th>\n",
       "      <th>free sulfur dioxide</th>\n",
       "      <th>total sulfur dioxide</th>\n",
       "      <th>density</th>\n",
       "      <th>pH</th>\n",
       "      <th>sulphates</th>\n",
       "      <th>alcohol</th>\n",
       "      <th>quality</th>\n",
       "      <th>type</th>\n",
       "    </tr>\n",
       "  </thead>\n",
       "  <tbody>\n",
       "    <tr>\n",
       "      <th>count</th>\n",
       "      <td>6497.000000</td>\n",
       "      <td>6497.000000</td>\n",
       "      <td>6497.000000</td>\n",
       "      <td>6497.000000</td>\n",
       "      <td>6497.000000</td>\n",
       "      <td>6497.000000</td>\n",
       "      <td>6497.000000</td>\n",
       "      <td>6497.000000</td>\n",
       "      <td>6497.000000</td>\n",
       "      <td>6497.000000</td>\n",
       "      <td>6497.000000</td>\n",
       "      <td>6497.000000</td>\n",
       "      <td>6497.000000</td>\n",
       "    </tr>\n",
       "    <tr>\n",
       "      <th>mean</th>\n",
       "      <td>7.215307</td>\n",
       "      <td>0.339666</td>\n",
       "      <td>0.318633</td>\n",
       "      <td>5.443235</td>\n",
       "      <td>0.056034</td>\n",
       "      <td>30.525473</td>\n",
       "      <td>115.744728</td>\n",
       "      <td>0.994697</td>\n",
       "      <td>3.218501</td>\n",
       "      <td>0.531268</td>\n",
       "      <td>10.491801</td>\n",
       "      <td>5.818378</td>\n",
       "      <td>0.753886</td>\n",
       "    </tr>\n",
       "    <tr>\n",
       "      <th>std</th>\n",
       "      <td>1.296434</td>\n",
       "      <td>0.164636</td>\n",
       "      <td>0.145318</td>\n",
       "      <td>4.757804</td>\n",
       "      <td>0.035034</td>\n",
       "      <td>17.749313</td>\n",
       "      <td>56.521751</td>\n",
       "      <td>0.002999</td>\n",
       "      <td>0.160787</td>\n",
       "      <td>0.148806</td>\n",
       "      <td>1.192712</td>\n",
       "      <td>0.873255</td>\n",
       "      <td>0.430779</td>\n",
       "    </tr>\n",
       "    <tr>\n",
       "      <th>min</th>\n",
       "      <td>3.800000</td>\n",
       "      <td>0.080000</td>\n",
       "      <td>0.000000</td>\n",
       "      <td>0.600000</td>\n",
       "      <td>0.009000</td>\n",
       "      <td>1.000000</td>\n",
       "      <td>6.000000</td>\n",
       "      <td>0.987110</td>\n",
       "      <td>2.720000</td>\n",
       "      <td>0.220000</td>\n",
       "      <td>8.000000</td>\n",
       "      <td>3.000000</td>\n",
       "      <td>0.000000</td>\n",
       "    </tr>\n",
       "    <tr>\n",
       "      <th>25%</th>\n",
       "      <td>6.400000</td>\n",
       "      <td>0.230000</td>\n",
       "      <td>0.250000</td>\n",
       "      <td>1.800000</td>\n",
       "      <td>0.038000</td>\n",
       "      <td>17.000000</td>\n",
       "      <td>77.000000</td>\n",
       "      <td>0.992340</td>\n",
       "      <td>3.110000</td>\n",
       "      <td>0.430000</td>\n",
       "      <td>9.500000</td>\n",
       "      <td>5.000000</td>\n",
       "      <td>1.000000</td>\n",
       "    </tr>\n",
       "    <tr>\n",
       "      <th>50%</th>\n",
       "      <td>7.000000</td>\n",
       "      <td>0.290000</td>\n",
       "      <td>0.310000</td>\n",
       "      <td>3.000000</td>\n",
       "      <td>0.047000</td>\n",
       "      <td>29.000000</td>\n",
       "      <td>118.000000</td>\n",
       "      <td>0.994890</td>\n",
       "      <td>3.210000</td>\n",
       "      <td>0.510000</td>\n",
       "      <td>10.300000</td>\n",
       "      <td>6.000000</td>\n",
       "      <td>1.000000</td>\n",
       "    </tr>\n",
       "    <tr>\n",
       "      <th>75%</th>\n",
       "      <td>7.700000</td>\n",
       "      <td>0.400000</td>\n",
       "      <td>0.390000</td>\n",
       "      <td>8.100000</td>\n",
       "      <td>0.065000</td>\n",
       "      <td>41.000000</td>\n",
       "      <td>156.000000</td>\n",
       "      <td>0.996990</td>\n",
       "      <td>3.320000</td>\n",
       "      <td>0.600000</td>\n",
       "      <td>11.300000</td>\n",
       "      <td>6.000000</td>\n",
       "      <td>1.000000</td>\n",
       "    </tr>\n",
       "    <tr>\n",
       "      <th>max</th>\n",
       "      <td>15.900000</td>\n",
       "      <td>1.580000</td>\n",
       "      <td>1.660000</td>\n",
       "      <td>65.800000</td>\n",
       "      <td>0.611000</td>\n",
       "      <td>289.000000</td>\n",
       "      <td>440.000000</td>\n",
       "      <td>1.038980</td>\n",
       "      <td>4.010000</td>\n",
       "      <td>2.000000</td>\n",
       "      <td>14.900000</td>\n",
       "      <td>9.000000</td>\n",
       "      <td>1.000000</td>\n",
       "    </tr>\n",
       "  </tbody>\n",
       "</table>\n",
       "</div>"
      ],
      "text/plain": [
       "       fixed acidity  volatile acidity  citric acid  residual sugar  \\\n",
       "count    6497.000000       6497.000000  6497.000000     6497.000000   \n",
       "mean        7.215307          0.339666     0.318633        5.443235   \n",
       "std         1.296434          0.164636     0.145318        4.757804   \n",
       "min         3.800000          0.080000     0.000000        0.600000   \n",
       "25%         6.400000          0.230000     0.250000        1.800000   \n",
       "50%         7.000000          0.290000     0.310000        3.000000   \n",
       "75%         7.700000          0.400000     0.390000        8.100000   \n",
       "max        15.900000          1.580000     1.660000       65.800000   \n",
       "\n",
       "         chlorides  free sulfur dioxide  total sulfur dioxide      density  \\\n",
       "count  6497.000000          6497.000000           6497.000000  6497.000000   \n",
       "mean      0.056034            30.525473            115.744728     0.994697   \n",
       "std       0.035034            17.749313             56.521751     0.002999   \n",
       "min       0.009000             1.000000              6.000000     0.987110   \n",
       "25%       0.038000            17.000000             77.000000     0.992340   \n",
       "50%       0.047000            29.000000            118.000000     0.994890   \n",
       "75%       0.065000            41.000000            156.000000     0.996990   \n",
       "max       0.611000           289.000000            440.000000     1.038980   \n",
       "\n",
       "                pH    sulphates      alcohol      quality         type  \n",
       "count  6497.000000  6497.000000  6497.000000  6497.000000  6497.000000  \n",
       "mean      3.218501     0.531268    10.491801     5.818378     0.753886  \n",
       "std       0.160787     0.148806     1.192712     0.873255     0.430779  \n",
       "min       2.720000     0.220000     8.000000     3.000000     0.000000  \n",
       "25%       3.110000     0.430000     9.500000     5.000000     1.000000  \n",
       "50%       3.210000     0.510000    10.300000     6.000000     1.000000  \n",
       "75%       3.320000     0.600000    11.300000     6.000000     1.000000  \n",
       "max       4.010000     2.000000    14.900000     9.000000     1.000000  "
      ]
     },
     "execution_count": 80,
     "metadata": {},
     "output_type": "execute_result"
    }
   ],
   "source": [
    "wine.describe() # more info about our dataset before the models part"
   ]
  },
  {
   "cell_type": "markdown",
   "id": "3c9d8357-7c8b-4401-adf2-25c71d5983c5",
   "metadata": {},
   "source": [
    "### Scaling"
   ]
  },
  {
   "cell_type": "code",
   "execution_count": 81,
   "id": "0a099725-60cb-4c1e-93aa-81e97a65d145",
   "metadata": {},
   "outputs": [
    {
     "data": {
      "text/html": [
       "<div>\n",
       "<style scoped>\n",
       "    .dataframe tbody tr th:only-of-type {\n",
       "        vertical-align: middle;\n",
       "    }\n",
       "\n",
       "    .dataframe tbody tr th {\n",
       "        vertical-align: top;\n",
       "    }\n",
       "\n",
       "    .dataframe thead th {\n",
       "        text-align: right;\n",
       "    }\n",
       "</style>\n",
       "<table border=\"1\" class=\"dataframe\">\n",
       "  <thead>\n",
       "    <tr style=\"text-align: right;\">\n",
       "      <th></th>\n",
       "      <th>fixed acidity</th>\n",
       "      <th>volatile acidity</th>\n",
       "      <th>citric acid</th>\n",
       "      <th>residual sugar</th>\n",
       "      <th>chlorides</th>\n",
       "      <th>free sulfur dioxide</th>\n",
       "      <th>total sulfur dioxide</th>\n",
       "      <th>density</th>\n",
       "      <th>pH</th>\n",
       "      <th>sulphates</th>\n",
       "      <th>alcohol</th>\n",
       "      <th>quality</th>\n",
       "      <th>type</th>\n",
       "      <th>quality_label</th>\n",
       "    </tr>\n",
       "  </thead>\n",
       "  <tbody>\n",
       "    <tr>\n",
       "      <th>0</th>\n",
       "      <td>-0.166089</td>\n",
       "      <td>-1.030629</td>\n",
       "      <td>2.899845</td>\n",
       "      <td>1.546371</td>\n",
       "      <td>-0.314975</td>\n",
       "      <td>-0.367675</td>\n",
       "      <td>0.181453</td>\n",
       "      <td>-0.165631</td>\n",
       "      <td>0.258120</td>\n",
       "      <td>-1.016626</td>\n",
       "      <td>1.432308</td>\n",
       "      <td>2.498456</td>\n",
       "      <td>1</td>\n",
       "      <td>high</td>\n",
       "    </tr>\n",
       "    <tr>\n",
       "      <th>1</th>\n",
       "      <td>0.373895</td>\n",
       "      <td>1.824366</td>\n",
       "      <td>-0.747613</td>\n",
       "      <td>-0.681719</td>\n",
       "      <td>0.598504</td>\n",
       "      <td>0.083082</td>\n",
       "      <td>0.305309</td>\n",
       "      <td>0.301278</td>\n",
       "      <td>0.320319</td>\n",
       "      <td>-0.546178</td>\n",
       "      <td>-0.496219</td>\n",
       "      <td>-0.937230</td>\n",
       "      <td>0</td>\n",
       "      <td>NaN</td>\n",
       "    </tr>\n",
       "    <tr>\n",
       "      <th>2</th>\n",
       "      <td>-0.320370</td>\n",
       "      <td>0.305752</td>\n",
       "      <td>0.147046</td>\n",
       "      <td>0.411306</td>\n",
       "      <td>-1.028631</td>\n",
       "      <td>0.421149</td>\n",
       "      <td>0.305309</td>\n",
       "      <td>-0.859324</td>\n",
       "      <td>-0.239471</td>\n",
       "      <td>-0.613385</td>\n",
       "      <td>1.264610</td>\n",
       "      <td>1.353228</td>\n",
       "      <td>1</td>\n",
       "      <td>medium</td>\n",
       "    </tr>\n",
       "  </tbody>\n",
       "</table>\n",
       "</div>"
      ],
      "text/plain": [
       "   fixed acidity  volatile acidity  citric acid  residual sugar  chlorides  \\\n",
       "0      -0.166089         -1.030629     2.899845        1.546371  -0.314975   \n",
       "1       0.373895          1.824366    -0.747613       -0.681719   0.598504   \n",
       "2      -0.320370          0.305752     0.147046        0.411306  -1.028631   \n",
       "\n",
       "   free sulfur dioxide  total sulfur dioxide   density        pH  sulphates  \\\n",
       "0            -0.367675              0.181453 -0.165631  0.258120  -1.016626   \n",
       "1             0.083082              0.305309  0.301278  0.320319  -0.546178   \n",
       "2             0.421149              0.305309 -0.859324 -0.239471  -0.613385   \n",
       "\n",
       "    alcohol   quality  type quality_label  \n",
       "0  1.432308  2.498456     1          high  \n",
       "1 -0.496219 -0.937230     0           NaN  \n",
       "2  1.264610  1.353228     1        medium  "
      ]
     },
     "execution_count": 81,
     "metadata": {},
     "output_type": "execute_result"
    }
   ],
   "source": [
    "features = ['fixed acidity', 'volatile acidity', 'citric acid', 'residual sugar', 'chlorides', 'free sulfur dioxide', 'total sulfur dioxide', 'density', 'pH', 'sulphates', 'alcohol', 'quality']\n",
    "ss = StandardScaler()\n",
    "df = wine\n",
    "df[features] = ss.fit_transform(df[features])\n",
    "df.head(3)"
   ]
  },
  {
   "cell_type": "code",
   "execution_count": 82,
   "id": "c3a8e609-0517-414d-83f4-0b3c1125a626",
   "metadata": {},
   "outputs": [],
   "source": [
    "#df['type']=df['type'].map({'red':0,'white':1})\n",
    "#df"
   ]
  },
  {
   "cell_type": "code",
   "execution_count": 83,
   "id": "764ebf45-878b-40d8-a4f3-3a9ba6761f48",
   "metadata": {},
   "outputs": [],
   "source": [
    "target=df['type'] # the feature we would like to predict, the type of the wine\n",
    "data=df.drop(['type'], axis = 1) # we will drop y from x, because we want to predict it\n",
    "X_train,X_test,y_train,y_test = train_test_split(data,target,random_state=0) #train\\test split"
   ]
  },
  {
   "cell_type": "markdown",
   "id": "48e4c218-ebdd-4104-b9ae-a57b08390bdc",
   "metadata": {},
   "source": []
  },
  {
   "cell_type": "markdown",
   "id": "8a6490af-7370-49af-bde7-7802490e99bd",
   "metadata": {},
   "source": [
    "The default split is 75% train , 25% test."
   ]
  },
  {
   "cell_type": "markdown",
   "id": "cfce6732-0d54-4e7f-ac6e-e7faa50460e9",
   "metadata": {},
   "source": [
    "### Split Test/ Train"
   ]
  },
  {
   "cell_type": "code",
   "execution_count": 84,
   "id": "658641d8-36bd-437b-b558-699a2ca28f12",
   "metadata": {},
   "outputs": [],
   "source": [
    "target=df['type'] # the feature we would like to predict, the type of the wine\n",
    "data=df.drop(['type'], axis = 1) # we will drop y from x, because we want to predict it\n",
    "X_train,X_test,y_train,y_test = train_test_split(data,target,random_state=0) #train\\test split"
   ]
  },
  {
   "cell_type": "code",
   "execution_count": 85,
   "id": "38192bca-8aba-4822-a12d-d6945a5da4e6",
   "metadata": {},
   "outputs": [
    {
     "data": {
      "text/plain": [
       "(4872, 13)"
      ]
     },
     "execution_count": 85,
     "metadata": {},
     "output_type": "execute_result"
    }
   ],
   "source": [
    "X_train.shape # 3990 rows, 12 columns"
   ]
  },
  {
   "cell_type": "code",
   "execution_count": 86,
   "id": "52b4559d-b844-4202-8257-2940223edbcd",
   "metadata": {},
   "outputs": [
    {
     "data": {
      "text/plain": [
       "(1625, 13)"
      ]
     },
     "execution_count": 86,
     "metadata": {},
     "output_type": "execute_result"
    }
   ],
   "source": [
    "X_test.shape # 1330 rows, 12 columns"
   ]
  },
  {
   "cell_type": "code",
   "execution_count": 87,
   "id": "924687d3-aa53-461a-9e39-ea224f877e44",
   "metadata": {},
   "outputs": [
    {
     "data": {
      "text/plain": [
       "(4872,)"
      ]
     },
     "execution_count": 87,
     "metadata": {},
     "output_type": "execute_result"
    }
   ],
   "source": [
    "y_train.shape # 3990 rows, one column"
   ]
  },
  {
   "cell_type": "code",
   "execution_count": 88,
   "id": "37b32a4b-0ce0-4528-b4ab-db54fdbb3d40",
   "metadata": {},
   "outputs": [
    {
     "data": {
      "text/plain": [
       "(1625,)"
      ]
     },
     "execution_count": 88,
     "metadata": {},
     "output_type": "execute_result"
    }
   ],
   "source": [
    "y_test.shape # 1330 rows, one columns"
   ]
  },
  {
   "cell_type": "code",
   "execution_count": 89,
   "id": "ba7d4444-ad13-4296-8126-b8d8ebd39e5e",
   "metadata": {},
   "outputs": [
    {
     "data": {
      "text/plain": [
       "Index(['fixed acidity', 'volatile acidity', 'citric acid', 'residual sugar',\n",
       "       'chlorides', 'free sulfur dioxide', 'total sulfur dioxide', 'density',\n",
       "       'pH', 'sulphates', 'alcohol', 'quality', 'type', 'quality_label'],\n",
       "      dtype='object')"
      ]
     },
     "execution_count": 89,
     "metadata": {},
     "output_type": "execute_result"
    }
   ],
   "source": [
    "df.columns"
   ]
  },
  {
   "cell_type": "code",
   "execution_count": 90,
   "id": "e7236804-c513-4cab-ab1b-ba16b49a9ba4",
   "metadata": {},
   "outputs": [],
   "source": [
    "# Split the output into a seperate set. \n",
    "X_new=df[['alcohol', 'density', 'volatile acidity', 'chlorides']]\n",
    "Y_new=df[['quality']]"
   ]
  },
  {
   "cell_type": "code",
   "execution_count": 91,
   "id": "3a944968-90e1-4317-9e5f-1487876f4fc4",
   "metadata": {},
   "outputs": [],
   "source": [
    "# Split the data into train and test set with 80:20 proportion\n",
    "X_train, X_test, Y_train, Y_test = train_test_split(X_new, Y_new, test_size=0.2, random_state=40)"
   ]
  },
  {
   "cell_type": "code",
   "execution_count": 92,
   "id": "85eeea59-e1ee-4fe2-9955-8104a10bf5ce",
   "metadata": {},
   "outputs": [
    {
     "data": {
      "text/html": [
       "<div>\n",
       "<style scoped>\n",
       "    .dataframe tbody tr th:only-of-type {\n",
       "        vertical-align: middle;\n",
       "    }\n",
       "\n",
       "    .dataframe tbody tr th {\n",
       "        vertical-align: top;\n",
       "    }\n",
       "\n",
       "    .dataframe thead th {\n",
       "        text-align: right;\n",
       "    }\n",
       "</style>\n",
       "<table border=\"1\" class=\"dataframe\">\n",
       "  <thead>\n",
       "    <tr style=\"text-align: right;\">\n",
       "      <th></th>\n",
       "      <th>alcohol</th>\n",
       "      <th>density</th>\n",
       "      <th>volatile acidity</th>\n",
       "      <th>chlorides</th>\n",
       "    </tr>\n",
       "  </thead>\n",
       "  <tbody>\n",
       "    <tr>\n",
       "      <th>908</th>\n",
       "      <td>-0.328521</td>\n",
       "      <td>1.268447</td>\n",
       "      <td>4.163031</td>\n",
       "      <td>0.684143</td>\n",
       "    </tr>\n",
       "    <tr>\n",
       "      <th>3131</th>\n",
       "      <td>-1.502407</td>\n",
       "      <td>-0.365735</td>\n",
       "      <td>-0.909139</td>\n",
       "      <td>1.883084</td>\n",
       "    </tr>\n",
       "    <tr>\n",
       "      <th>2585</th>\n",
       "      <td>-0.999313</td>\n",
       "      <td>0.434681</td>\n",
       "      <td>0.366496</td>\n",
       "      <td>-0.086605</td>\n",
       "    </tr>\n",
       "    <tr>\n",
       "      <th>3375</th>\n",
       "      <td>-0.076974</td>\n",
       "      <td>-0.899345</td>\n",
       "      <td>-0.787650</td>\n",
       "      <td>-0.571891</td>\n",
       "    </tr>\n",
       "    <tr>\n",
       "      <th>4444</th>\n",
       "      <td>0.258422</td>\n",
       "      <td>1.135045</td>\n",
       "      <td>0.609474</td>\n",
       "      <td>0.198857</td>\n",
       "    </tr>\n",
       "  </tbody>\n",
       "</table>\n",
       "</div>"
      ],
      "text/plain": [
       "       alcohol   density  volatile acidity  chlorides\n",
       "908  -0.328521  1.268447          4.163031   0.684143\n",
       "3131 -1.502407 -0.365735         -0.909139   1.883084\n",
       "2585 -0.999313  0.434681          0.366496  -0.086605\n",
       "3375 -0.076974 -0.899345         -0.787650  -0.571891\n",
       "4444  0.258422  1.135045          0.609474   0.198857"
      ]
     },
     "execution_count": 92,
     "metadata": {},
     "output_type": "execute_result"
    }
   ],
   "source": [
    "# Preview the split dataset\n",
    "X_train.head()"
   ]
  },
  {
   "cell_type": "code",
   "execution_count": 93,
   "id": "99c6116b-03df-4e77-9825-e39f49ba7b58",
   "metadata": {
    "tags": []
   },
   "outputs": [
    {
     "data": {
      "text/html": [
       "<div>\n",
       "<style scoped>\n",
       "    .dataframe tbody tr th:only-of-type {\n",
       "        vertical-align: middle;\n",
       "    }\n",
       "\n",
       "    .dataframe tbody tr th {\n",
       "        vertical-align: top;\n",
       "    }\n",
       "\n",
       "    .dataframe thead th {\n",
       "        text-align: right;\n",
       "    }\n",
       "</style>\n",
       "<table border=\"1\" class=\"dataframe\">\n",
       "  <thead>\n",
       "    <tr style=\"text-align: right;\">\n",
       "      <th></th>\n",
       "      <th>quality</th>\n",
       "    </tr>\n",
       "  </thead>\n",
       "  <tbody>\n",
       "    <tr>\n",
       "      <th>908</th>\n",
       "      <td>-0.937230</td>\n",
       "    </tr>\n",
       "    <tr>\n",
       "      <th>3131</th>\n",
       "      <td>0.207999</td>\n",
       "    </tr>\n",
       "    <tr>\n",
       "      <th>2585</th>\n",
       "      <td>-0.937230</td>\n",
       "    </tr>\n",
       "    <tr>\n",
       "      <th>3375</th>\n",
       "      <td>-0.937230</td>\n",
       "    </tr>\n",
       "    <tr>\n",
       "      <th>4444</th>\n",
       "      <td>0.207999</td>\n",
       "    </tr>\n",
       "  </tbody>\n",
       "</table>\n",
       "</div>"
      ],
      "text/plain": [
       "       quality\n",
       "908  -0.937230\n",
       "3131  0.207999\n",
       "2585 -0.937230\n",
       "3375 -0.937230\n",
       "4444  0.207999"
      ]
     },
     "execution_count": 93,
     "metadata": {},
     "output_type": "execute_result"
    }
   ],
   "source": [
    "Y_train.head()"
   ]
  },
  {
   "cell_type": "code",
   "execution_count": 94,
   "id": "71157ab7-d5d6-4a90-af00-f34136407b2e",
   "metadata": {},
   "outputs": [
    {
     "data": {
      "text/html": [
       "<div>\n",
       "<style scoped>\n",
       "    .dataframe tbody tr th:only-of-type {\n",
       "        vertical-align: middle;\n",
       "    }\n",
       "\n",
       "    .dataframe tbody tr th {\n",
       "        vertical-align: top;\n",
       "    }\n",
       "\n",
       "    .dataframe thead th {\n",
       "        text-align: right;\n",
       "    }\n",
       "</style>\n",
       "<table border=\"1\" class=\"dataframe\">\n",
       "  <thead>\n",
       "    <tr style=\"text-align: right;\">\n",
       "      <th></th>\n",
       "      <th>alcohol</th>\n",
       "      <th>density</th>\n",
       "      <th>volatile acidity</th>\n",
       "      <th>chlorides</th>\n",
       "    </tr>\n",
       "  </thead>\n",
       "  <tbody>\n",
       "    <tr>\n",
       "      <th>369</th>\n",
       "      <td>-0.999313</td>\n",
       "      <td>0.634785</td>\n",
       "      <td>-0.605417</td>\n",
       "      <td>-0.257883</td>\n",
       "    </tr>\n",
       "    <tr>\n",
       "      <th>6243</th>\n",
       "      <td>1.096912</td>\n",
       "      <td>0.774858</td>\n",
       "      <td>0.427241</td>\n",
       "      <td>0.427227</td>\n",
       "    </tr>\n",
       "    <tr>\n",
       "      <th>3374</th>\n",
       "      <td>-0.663917</td>\n",
       "      <td>0.768188</td>\n",
       "      <td>0.184263</td>\n",
       "      <td>-0.400614</td>\n",
       "    </tr>\n",
       "    <tr>\n",
       "      <th>1009</th>\n",
       "      <td>0.509969</td>\n",
       "      <td>0.161206</td>\n",
       "      <td>0.791708</td>\n",
       "      <td>0.056126</td>\n",
       "    </tr>\n",
       "    <tr>\n",
       "      <th>220</th>\n",
       "      <td>1.180761</td>\n",
       "      <td>0.001123</td>\n",
       "      <td>0.062773</td>\n",
       "      <td>0.341588</td>\n",
       "    </tr>\n",
       "    <tr>\n",
       "      <th>...</th>\n",
       "      <td>...</td>\n",
       "      <td>...</td>\n",
       "      <td>...</td>\n",
       "      <td>...</td>\n",
       "    </tr>\n",
       "    <tr>\n",
       "      <th>1757</th>\n",
       "      <td>0.509969</td>\n",
       "      <td>-0.198981</td>\n",
       "      <td>-0.666161</td>\n",
       "      <td>-0.200790</td>\n",
       "    </tr>\n",
       "    <tr>\n",
       "      <th>5699</th>\n",
       "      <td>-1.167011</td>\n",
       "      <td>0.901590</td>\n",
       "      <td>2.128088</td>\n",
       "      <td>0.541412</td>\n",
       "    </tr>\n",
       "    <tr>\n",
       "      <th>3875</th>\n",
       "      <td>0.426120</td>\n",
       "      <td>-0.218992</td>\n",
       "      <td>-0.848395</td>\n",
       "      <td>-0.686076</td>\n",
       "    </tr>\n",
       "    <tr>\n",
       "      <th>5584</th>\n",
       "      <td>0.006875</td>\n",
       "      <td>-0.632540</td>\n",
       "      <td>-0.423183</td>\n",
       "      <td>-0.885900</td>\n",
       "    </tr>\n",
       "    <tr>\n",
       "      <th>884</th>\n",
       "      <td>1.935402</td>\n",
       "      <td>-1.216176</td>\n",
       "      <td>-0.240949</td>\n",
       "      <td>-0.343521</td>\n",
       "    </tr>\n",
       "  </tbody>\n",
       "</table>\n",
       "<p>1300 rows × 4 columns</p>\n",
       "</div>"
      ],
      "text/plain": [
       "       alcohol   density  volatile acidity  chlorides\n",
       "369  -0.999313  0.634785         -0.605417  -0.257883\n",
       "6243  1.096912  0.774858          0.427241   0.427227\n",
       "3374 -0.663917  0.768188          0.184263  -0.400614\n",
       "1009  0.509969  0.161206          0.791708   0.056126\n",
       "220   1.180761  0.001123          0.062773   0.341588\n",
       "...        ...       ...               ...        ...\n",
       "1757  0.509969 -0.198981         -0.666161  -0.200790\n",
       "5699 -1.167011  0.901590          2.128088   0.541412\n",
       "3875  0.426120 -0.218992         -0.848395  -0.686076\n",
       "5584  0.006875 -0.632540         -0.423183  -0.885900\n",
       "884   1.935402 -1.216176         -0.240949  -0.343521\n",
       "\n",
       "[1300 rows x 4 columns]"
      ]
     },
     "execution_count": 94,
     "metadata": {},
     "output_type": "execute_result"
    }
   ],
   "source": [
    "X_test"
   ]
  },
  {
   "cell_type": "code",
   "execution_count": 95,
   "id": "758341f3-89fd-4c8b-b07a-d9b7d54efd11",
   "metadata": {},
   "outputs": [
    {
     "data": {
      "text/plain": [
       "5316    1\n",
       "5210    1\n",
       "3518    1\n",
       "1622    1\n",
       "2443    0\n",
       "       ..\n",
       "2152    1\n",
       "4019    0\n",
       "3732    1\n",
       "1315    0\n",
       "5701    1\n",
       "Name: type, Length: 1625, dtype: int32"
      ]
     },
     "execution_count": 95,
     "metadata": {},
     "output_type": "execute_result"
    }
   ],
   "source": [
    "y_test"
   ]
  },
  {
   "cell_type": "markdown",
   "id": "1cfc8a35-035c-413a-9515-a09686dae5c7",
   "metadata": {},
   "source": [
    "# Comments\n",
    "As the data has been processed, we realise that the data need further study with different algorithm for better understing and accuracy"
   ]
  }
 ],
 "metadata": {
  "kernelspec": {
   "display_name": "Python 3 (ipykernel)",
   "language": "python",
   "name": "python3"
  },
  "language_info": {
   "codemirror_mode": {
    "name": "ipython",
    "version": 3
   },
   "file_extension": ".py",
   "mimetype": "text/x-python",
   "name": "python",
   "nbconvert_exporter": "python",
   "pygments_lexer": "ipython3",
   "version": "3.9.15"
  },
  "vscode": {
   "interpreter": {
    "hash": "4af362c6fcd5164c9c968a99bf41daa66660a821b7e3bc83ed80f999d05cb539"
   }
  }
 },
 "nbformat": 4,
 "nbformat_minor": 5
}
